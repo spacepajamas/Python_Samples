{
 "cells": [
  {
   "cell_type": "code",
   "execution_count": 1,
   "metadata": {},
   "outputs": [],
   "source": [
    "%matplotlib inline"
   ]
  },
  {
   "cell_type": "markdown",
   "metadata": {},
   "source": [
    "## Create data for XIE et al.  model\n",
    "-  get this repo from GitHub : https://github.com/taylorlu/Speaker-Diarization\n",
    "-  Put the file speakerDiarization_mod_PG_v2.py into the directory **taylorlu/Speaker-Diarization/ **\n",
    "-  Diarize audio files with the help of **speakerDiarization_mod_PG_v2.py** \n",
    "\n",
    "\n"
   ]
  },
  {
   "cell_type": "markdown",
   "metadata": {},
   "source": [
    "## Notes on  audio file diarization \n",
    "- see STEP_1_PreProcess_data_DEMO_PG.ipynb for creating preprocessed files\n",
    "\n",
    "\n",
    "\n",
    "in the speakerDiarization_mod_PG_v2.py file\n",
    "\n",
    "**file_idx** = label of the arttificial segement\n",
    "if  artificial_segments/segment_0_.wav, then file_idx = 0\n",
    "\n",
    "**file_name_header** = Path to the folder where the preprocessed data are kept, namely this directory: *artificial_segments*\n",
    "\n",
    " embedding_per_second = number of embeddings per second, depends of uttenernce length\n",
    "- high: takes long to calculate, chance of getting many incorrectly assigned segements\n",
    "- low: calculated quickly, chance of overlooking short utterences\n",
    "     \n",
    "file is saved to a pickel file in a folder called *model_data/*\n",
    "     \n",
    "\n",
    "\n",
    "\n",
    "\n"
   ]
  },
  {
   "cell_type": "code",
   "execution_count": 2,
   "metadata": {},
   "outputs": [],
   "source": [
    "import matplotlib.pyplot as plt"
   ]
  },
  {
   "cell_type": "code",
   "execution_count": 3,
   "metadata": {},
   "outputs": [],
   "source": [
    "import pickle"
   ]
  },
  {
   "cell_type": "code",
   "execution_count": 4,
   "metadata": {},
   "outputs": [],
   "source": [
    "path = '~/DEMO_DATA/model_data/1_0.5_X.pkl' # output of diarization process see above"
   ]
  },
  {
   "cell_type": "markdown",
   "metadata": {},
   "source": [
    "## Gold standard data"
   ]
  },
  {
   "cell_type": "code",
   "execution_count": 5,
   "metadata": {},
   "outputs": [],
   "source": [
    "path_gold = '~/DEMO_DATA/df_data/x.pkl'\n",
    "data_gold = pickle.load(open(path_gold,'rb'))\n",
    "#data_gold"
   ]
  },
  {
   "cell_type": "code",
   "execution_count": 6,
   "metadata": {},
   "outputs": [],
   "source": [
    "#data = pickle.load(open(path,'rb'))"
   ]
  },
  {
   "cell_type": "code",
   "execution_count": 7,
   "metadata": {},
   "outputs": [],
   "source": [
    "df_all, df_nooverlap,speaker_assingments, idx__cut_ranges_original,idx_speakerlabels_artif, artif_segment_filepaths = data_gold\n"
   ]
  },
  {
   "cell_type": "code",
   "execution_count": 8,
   "metadata": {},
   "outputs": [
    {
     "data": {
      "text/html": [
       "<div>\n",
       "<style scoped>\n",
       "    .dataframe tbody tr th:only-of-type {\n",
       "        vertical-align: middle;\n",
       "    }\n",
       "\n",
       "    .dataframe tbody tr th {\n",
       "        vertical-align: top;\n",
       "    }\n",
       "\n",
       "    .dataframe thead th {\n",
       "        text-align: right;\n",
       "    }\n",
       "</style>\n",
       "<table border=\"1\" class=\"dataframe\">\n",
       "  <thead>\n",
       "    <tr style=\"text-align: right;\">\n",
       "      <th></th>\n",
       "      <th>start</th>\n",
       "      <th>stop</th>\n",
       "      <th>speaker</th>\n",
       "      <th>spoken</th>\n",
       "      <th>spoken_clean</th>\n",
       "      <th>start_reset</th>\n",
       "      <th>stop_reset</th>\n",
       "      <th>duration</th>\n",
       "    </tr>\n",
       "  </thead>\n",
       "  <tbody>\n",
       "    <tr>\n",
       "      <th>0</th>\n",
       "      <td>426.278</td>\n",
       "      <td>427.293</td>\n",
       "      <td>spkr1:</td>\n",
       "      <td>Well.</td>\n",
       "      <td>Well.</td>\n",
       "      <td>0.000</td>\n",
       "      <td>1.015</td>\n",
       "      <td>1.015</td>\n",
       "    </tr>\n",
       "    <tr>\n",
       "      <th>1</th>\n",
       "      <td>426.289</td>\n",
       "      <td>426.879</td>\n",
       "      <td>spkr4:</td>\n",
       "      <td>Mhm.</td>\n",
       "      <td>Mhm.</td>\n",
       "      <td>0.011</td>\n",
       "      <td>0.601</td>\n",
       "      <td>0.590</td>\n",
       "    </tr>\n",
       "    <tr>\n",
       "      <th>2</th>\n",
       "      <td>427.576</td>\n",
       "      <td>431.446</td>\n",
       "      <td>spkr1:</td>\n",
       "      <td>This is what highlights the broad -- broadly t...</td>\n",
       "      <td>This is what highlights the broad -- broadly t...</td>\n",
       "      <td>1.298</td>\n",
       "      <td>5.168</td>\n",
       "      <td>3.870</td>\n",
       "    </tr>\n",
       "    <tr>\n",
       "      <th>3</th>\n",
       "      <td>431.270</td>\n",
       "      <td>431.941</td>\n",
       "      <td>spkr4:</td>\n",
       "      <td>Mhm.</td>\n",
       "      <td>Mhm.</td>\n",
       "      <td>4.992</td>\n",
       "      <td>5.663</td>\n",
       "      <td>0.671</td>\n",
       "    </tr>\n",
       "    <tr>\n",
       "      <th>4</th>\n",
       "      <td>431.446</td>\n",
       "      <td>432.712</td>\n",
       "      <td>spkr1:</td>\n",
       "      <td>First of all, we have this</td>\n",
       "      <td>First of all, we have this</td>\n",
       "      <td>5.168</td>\n",
       "      <td>6.434</td>\n",
       "      <td>1.266</td>\n",
       "    </tr>\n",
       "  </tbody>\n",
       "</table>\n",
       "</div>"
      ],
      "text/plain": [
       "     start     stop speaker  \\\n",
       "0  426.278  427.293  spkr1:   \n",
       "1  426.289  426.879  spkr4:   \n",
       "2  427.576  431.446  spkr1:   \n",
       "3  431.270  431.941  spkr4:   \n",
       "4  431.446  432.712  spkr1:   \n",
       "\n",
       "                                              spoken  \\\n",
       "0                                             Well.    \n",
       "1                                               Mhm.   \n",
       "2  This is what highlights the broad -- broadly t...   \n",
       "3                                               Mhm.   \n",
       "4                         First of all, we have this   \n",
       "\n",
       "                                        spoken_clean  start_reset  stop_reset  \\\n",
       "0                                             Well.         0.000       1.015   \n",
       "1                                               Mhm.        0.011       0.601   \n",
       "2  This is what highlights the broad -- broadly t...        1.298       5.168   \n",
       "3                                               Mhm.        4.992       5.663   \n",
       "4                         First of all, we have this        5.168       6.434   \n",
       "\n",
       "   duration  \n",
       "0     1.015  \n",
       "1     0.590  \n",
       "2     3.870  \n",
       "3     0.671  \n",
       "4     1.266  "
      ]
     },
     "execution_count": 8,
     "metadata": {},
     "output_type": "execute_result"
    }
   ],
   "source": [
    "df_all.head(5)"
   ]
  },
  {
   "cell_type": "code",
   "execution_count": 9,
   "metadata": {},
   "outputs": [
    {
     "data": {
      "text/html": [
       "<div>\n",
       "<style scoped>\n",
       "    .dataframe tbody tr th:only-of-type {\n",
       "        vertical-align: middle;\n",
       "    }\n",
       "\n",
       "    .dataframe tbody tr th {\n",
       "        vertical-align: top;\n",
       "    }\n",
       "\n",
       "    .dataframe thead th {\n",
       "        text-align: right;\n",
       "    }\n",
       "</style>\n",
       "<table border=\"1\" class=\"dataframe\">\n",
       "  <thead>\n",
       "    <tr style=\"text-align: right;\">\n",
       "      <th></th>\n",
       "      <th>start</th>\n",
       "      <th>stop</th>\n",
       "      <th>speaker</th>\n",
       "      <th>spoken</th>\n",
       "      <th>spoken_clean</th>\n",
       "      <th>start_reset</th>\n",
       "      <th>stop_reset</th>\n",
       "      <th>duration</th>\n",
       "    </tr>\n",
       "  </thead>\n",
       "  <tbody>\n",
       "    <tr>\n",
       "      <th>5</th>\n",
       "      <td>432.812</td>\n",
       "      <td>434.017</td>\n",
       "      <td>spkr1:</td>\n",
       "      <td>kinetic battery.</td>\n",
       "      <td>kinetic battery.</td>\n",
       "      <td>6.534</td>\n",
       "      <td>7.739</td>\n",
       "      <td>1.205</td>\n",
       "    </tr>\n",
       "    <tr>\n",
       "      <th>6</th>\n",
       "      <td>434.307</td>\n",
       "      <td>436.552</td>\n",
       "      <td>spkr1:</td>\n",
       "      <td>And this costs us three euros.</td>\n",
       "      <td>And this costs us three euros.</td>\n",
       "      <td>8.029</td>\n",
       "      <td>10.274</td>\n",
       "      <td>2.245</td>\n",
       "    </tr>\n",
       "    <tr>\n",
       "      <th>10</th>\n",
       "      <td>439.034</td>\n",
       "      <td>440.489</td>\n",
       "      <td>spkr1:</td>\n",
       "      <td>And %uh</td>\n",
       "      <td>And %uh</td>\n",
       "      <td>12.756</td>\n",
       "      <td>14.211</td>\n",
       "      <td>1.455</td>\n",
       "    </tr>\n",
       "    <tr>\n",
       "      <th>11</th>\n",
       "      <td>440.919</td>\n",
       "      <td>443.283</td>\n",
       "      <td>spkr1:</td>\n",
       "      <td>then if we give %uh --</td>\n",
       "      <td>then if we give %uh --</td>\n",
       "      <td>14.641</td>\n",
       "      <td>17.005</td>\n",
       "      <td>2.364</td>\n",
       "    </tr>\n",
       "    <tr>\n",
       "      <th>15</th>\n",
       "      <td>447.367</td>\n",
       "      <td>449.421</td>\n",
       "      <td>spkr1:</td>\n",
       "      <td>%uh %uh that would cost us four.</td>\n",
       "      <td>%uh %uh that would cost us four.</td>\n",
       "      <td>21.089</td>\n",
       "      <td>23.143</td>\n",
       "      <td>2.054</td>\n",
       "    </tr>\n",
       "  </tbody>\n",
       "</table>\n",
       "</div>"
      ],
      "text/plain": [
       "      start     stop speaker                            spoken  \\\n",
       "5   432.812  434.017  spkr1:                 kinetic battery.    \n",
       "6   434.307  436.552  spkr1:    And this costs us three euros.   \n",
       "10  439.034  440.489  spkr1:                           And %uh   \n",
       "11  440.919  443.283  spkr1:           then if we give %uh --    \n",
       "15  447.367  449.421  spkr1:  %uh %uh that would cost us four.   \n",
       "\n",
       "                        spoken_clean  start_reset  stop_reset  duration  \n",
       "5                  kinetic battery.         6.534       7.739     1.205  \n",
       "6     And this costs us three euros.        8.029      10.274     2.245  \n",
       "10                           And %uh       12.756      14.211     1.455  \n",
       "11           then if we give %uh --        14.641      17.005     2.364  \n",
       "15  %uh %uh that would cost us four.       21.089      23.143     2.054  "
      ]
     },
     "execution_count": 9,
     "metadata": {},
     "output_type": "execute_result"
    }
   ],
   "source": [
    "df_nooverlap.head(5)"
   ]
  },
  {
   "cell_type": "code",
   "execution_count": 10,
   "metadata": {},
   "outputs": [
    {
     "data": {
      "text/plain": [
       "[(5, 'spkr1:', 1.205000000000041, 'start'),\n",
       " (6, 'spkr1:', 2.2450000000000045, 'cont'),\n",
       " (10, 'spkr1:', 1.455000000000041, 'cont')]"
      ]
     },
     "execution_count": 10,
     "metadata": {},
     "output_type": "execute_result"
    }
   ],
   "source": [
    "speaker_assingments[:3]"
   ]
  },
  {
   "cell_type": "code",
   "execution_count": 11,
   "metadata": {},
   "outputs": [
    {
     "data": {
      "text/plain": [
       "[(5, 432.81199999999995, 434.017),\n",
       " (6, 434.30699999999996, 436.55199999999996),\n",
       " (10, 439.034, 440.48900000000003)]"
      ]
     },
     "execution_count": 11,
     "metadata": {},
     "output_type": "execute_result"
    }
   ],
   "source": [
    "idx__cut_ranges_original[:3]"
   ]
  },
  {
   "cell_type": "code",
   "execution_count": 12,
   "metadata": {},
   "outputs": [
    {
     "data": {
      "text/plain": [
       "[[(5, 'spkr1:', 1.205000000000041, 'start'),\n",
       "  (6, 'spkr1:', 2.2450000000000045, 'cont'),\n",
       "  (10, 'spkr1:', 1.455000000000041, 'cont'),\n",
       "  (11, 'spkr1:', 2.363999999999976, 'cont'),\n",
       "  (15, 'spkr1:', 2.0540000000000305, 'end'),\n",
       "  (20, 'spkr1:', 1.0319999999999823, 'start'),\n",
       "  (23, 'spkr1:', 0.9569999999999936, 'cont'),\n",
       "  (31, 'spkr1:', 0.4009999999999536, 'cont'),\n",
       "  (32, 'spkr1:', 1.3020000000000778, 'cont'),\n",
       "  (46, 'spkr1:', 5.286000000000001, 'end'),\n",
       "  (63, 'spkr1:', 4.63799999999992, 'start'),\n",
       "  (64, 'spkr1:', 3.830000000000041, 'end'),\n",
       "  (79, 'spkr2:', 1.9440000000000737, 'start'),\n",
       "  (80, 'spkr2:', 0.63799999999992, 'cont'),\n",
       "  (81, 'spkr2:', 1.1779999999998836, 'end')],\n",
       " [(99, 'spkr2:', 0.8199999999999363, 'start'),\n",
       "  (110, 'spkr2:', 0.8920000000000528, 'cont'),\n",
       "  (111, 'spkr2:', 1.4149999999999636, 'cont'),\n",
       "  (112, 'spkr2:', 1.5919999999998709, 'cont'),\n",
       "  (113, 'spkr2:', 2.09599999999989, 'end'),\n",
       "  (217, 'spkr4:', 2.0920000000000982, 'start'),\n",
       "  (218, 'spkr4:', 0.8660000000000991, 'cont'),\n",
       "  (219, 'spkr4:', 2.9480000000000928, 'cont'),\n",
       "  (220, 'spkr4:', 1.3539999999999281, 'end'),\n",
       "  (222, 'spkr4:', 0.650000000000091, 'start'),\n",
       "  (223, 'spkr4:', 0.9320000000000164, 'end'),\n",
       "  (244, 'spkr1:', 3.488999999999919, 'start'),\n",
       "  (245, 'spkr1:', 1.266999999999939, 'end'),\n",
       "  (265, 'spkr4:', 2.3560000000001082, 'start'),\n",
       "  (266, 'spkr4:', 0.5539999999998599, 'end'),\n",
       "  (270, 'spkr1:', 3.200999999999908, 'start'),\n",
       "  (271, 'spkr1:', 1.2619999999999436, 'cont'),\n",
       "  (272, 'spkr1:', 1.9110000000000582, 'cont'),\n",
       "  (277, 'spkr1:', 1.3880000000000337, 'end')]]"
      ]
     },
     "execution_count": 12,
     "metadata": {},
     "output_type": "execute_result"
    }
   ],
   "source": [
    "idx_speakerlabels_artif[:2]"
   ]
  },
  {
   "cell_type": "code",
   "execution_count": 13,
   "metadata": {},
   "outputs": [
    {
     "data": {
      "text/plain": [
       "['/Users/pari/University/DIAR_Project/DEMO_DATA/artificial_segments/segment_0_.wav',\n",
       " '/Users/pari/University/DIAR_Project/DEMO_DATA/artificial_segments/segment_1_.wav',\n",
       " '/Users/pari/University/DIAR_Project/DEMO_DATA/artificial_segments/segment_2_.wav',\n",
       " '/Users/pari/University/DIAR_Project/DEMO_DATA/artificial_segments/segment_3_.wav',\n",
       " '/Users/pari/University/DIAR_Project/DEMO_DATA/artificial_segments/segment_4_.wav',\n",
       " '/Users/pari/University/DIAR_Project/DEMO_DATA/artificial_segments/segment_5_.wav',\n",
       " '/Users/pari/University/DIAR_Project/DEMO_DATA/artificial_segments/segment_6_.wav',\n",
       " '/Users/pari/University/DIAR_Project/DEMO_DATA/artificial_segments/segment_7_.wav',\n",
       " '/Users/pari/University/DIAR_Project/DEMO_DATA/artificial_segments/segment_8_.wav',\n",
       " '/Users/pari/University/DIAR_Project/DEMO_DATA/artificial_segments/segment_9_.wav',\n",
       " '/Users/pari/University/DIAR_Project/DEMO_DATA/artificial_segments/segment_10_.wav',\n",
       " '/Users/pari/University/DIAR_Project/DEMO_DATA/artificial_segments/segment_11_.wav',\n",
       " '/Users/pari/University/DIAR_Project/DEMO_DATA/artificial_segments/segment_12_.wav']"
      ]
     },
     "execution_count": 13,
     "metadata": {},
     "output_type": "execute_result"
    }
   ],
   "source": [
    "artif_segment_filepaths"
   ]
  },
  {
   "cell_type": "code",
   "execution_count": 14,
   "metadata": {},
   "outputs": [],
   "source": [
    "def plot_segments(segments):\n",
    "    \"\"\"    \n",
    "    segments = {'a': [(0, 5),\n",
    "                    (15, 20)],\n",
    "                'b': [(0, 7),\n",
    "                    (19, 25)]}\n",
    "    \"\"\"\n",
    "    #colors = {0: 'b', 1: 'r'}\n",
    "    #plt.figure()\n",
    "    \n",
    "    for y in segments:\n",
    "        for seg in segments[y]:\n",
    "            plt.plot(seg, [y, y], marker = '|')"
   ]
  },
  {
   "cell_type": "code",
   "execution_count": 15,
   "metadata": {},
   "outputs": [],
   "source": [
    "def get_segment_df(file_idx,out_data,non_overlap_df):\n",
    "    sig_df = non_overlap_df.ix[[item[0] for item in out_data[file_idx]]]\n",
    "    old_time = list(zip(sig_df.start_reset, sig_df.stop_reset, sig_df.duration))\n",
    "    stop_n = 0.00\n",
    "    new_start = []\n",
    "    new_stop = []\n",
    "\n",
    "    for i in range(len(old_time)):\n",
    "        #print(old_time[i])\n",
    "        start_o, stop_o, dur = old_time[i]\n",
    "        if i ==0:\n",
    "            start_n = 0.000\n",
    "            stop_n = start_n+dur\n",
    "\n",
    "        if i !=0:\n",
    "            start_n = stop_n\n",
    "            stop_n = start_n+dur\n",
    "\n",
    "        #print(start_n,stop_n)\n",
    "        new_start.append(start_n)\n",
    "        new_stop.append(stop_n)\n",
    "    sig_df['start_seg'] = new_start\n",
    "    sig_df['stop_seg'] = new_stop\n",
    "\n",
    "\n",
    "    \n",
    "    return sig_df"
   ]
  },
  {
   "cell_type": "code",
   "execution_count": 16,
   "metadata": {},
   "outputs": [
    {
     "name": "stderr",
     "output_type": "stream",
     "text": [
      "/Users/pari/University/unienv/lib/python3.6/site-packages/ipykernel_launcher.py:2: DeprecationWarning: \n",
      ".ix is deprecated. Please use\n",
      ".loc for label based indexing or\n",
      ".iloc for positional indexing\n",
      "\n",
      "See the documentation here:\n",
      "http://pandas.pydata.org/pandas-docs/stable/indexing.html#ix-indexer-is-deprecated\n",
      "  \n"
     ]
    },
    {
     "data": {
      "text/html": [
       "<div>\n",
       "<style scoped>\n",
       "    .dataframe tbody tr th:only-of-type {\n",
       "        vertical-align: middle;\n",
       "    }\n",
       "\n",
       "    .dataframe tbody tr th {\n",
       "        vertical-align: top;\n",
       "    }\n",
       "\n",
       "    .dataframe thead th {\n",
       "        text-align: right;\n",
       "    }\n",
       "</style>\n",
       "<table border=\"1\" class=\"dataframe\">\n",
       "  <thead>\n",
       "    <tr style=\"text-align: right;\">\n",
       "      <th></th>\n",
       "      <th>start</th>\n",
       "      <th>stop</th>\n",
       "      <th>speaker</th>\n",
       "      <th>spoken</th>\n",
       "      <th>spoken_clean</th>\n",
       "      <th>start_reset</th>\n",
       "      <th>stop_reset</th>\n",
       "      <th>duration</th>\n",
       "      <th>start_seg</th>\n",
       "      <th>stop_seg</th>\n",
       "    </tr>\n",
       "  </thead>\n",
       "  <tbody>\n",
       "    <tr>\n",
       "      <th>99</th>\n",
       "      <td>588.955</td>\n",
       "      <td>589.775</td>\n",
       "      <td>spkr2:</td>\n",
       "      <td>%eh</td>\n",
       "      <td>%eh</td>\n",
       "      <td>162.677</td>\n",
       "      <td>163.497</td>\n",
       "      <td>0.820</td>\n",
       "      <td>0.000</td>\n",
       "      <td>0.820</td>\n",
       "    </tr>\n",
       "    <tr>\n",
       "      <th>110</th>\n",
       "      <td>598.007</td>\n",
       "      <td>598.899</td>\n",
       "      <td>spkr2:</td>\n",
       "      <td>also,</td>\n",
       "      <td>also,</td>\n",
       "      <td>171.729</td>\n",
       "      <td>172.621</td>\n",
       "      <td>0.892</td>\n",
       "      <td>0.820</td>\n",
       "      <td>1.712</td>\n",
       "    </tr>\n",
       "    <tr>\n",
       "      <th>111</th>\n",
       "      <td>599.143</td>\n",
       "      <td>600.558</td>\n",
       "      <td>spkr2:</td>\n",
       "      <td>%eh rubber.</td>\n",
       "      <td>%eh rubber.</td>\n",
       "      <td>172.865</td>\n",
       "      <td>174.280</td>\n",
       "      <td>1.415</td>\n",
       "      <td>1.712</td>\n",
       "      <td>3.127</td>\n",
       "    </tr>\n",
       "    <tr>\n",
       "      <th>112</th>\n",
       "      <td>602.459</td>\n",
       "      <td>604.051</td>\n",
       "      <td>spkr2:</td>\n",
       "      <td>And you have rubber that &lt;contraction e_form=\"...</td>\n",
       "      <td>And you have rubber that doesn't break,</td>\n",
       "      <td>176.181</td>\n",
       "      <td>177.773</td>\n",
       "      <td>1.592</td>\n",
       "      <td>3.127</td>\n",
       "      <td>4.719</td>\n",
       "    </tr>\n",
       "    <tr>\n",
       "      <th>113</th>\n",
       "      <td>604.556</td>\n",
       "      <td>606.652</td>\n",
       "      <td>spkr2:</td>\n",
       "      <td>and you have a kinetic battery,</td>\n",
       "      <td>and you have a kinetic battery,</td>\n",
       "      <td>178.278</td>\n",
       "      <td>180.374</td>\n",
       "      <td>2.096</td>\n",
       "      <td>4.719</td>\n",
       "      <td>6.815</td>\n",
       "    </tr>\n",
       "    <tr>\n",
       "      <th>217</th>\n",
       "      <td>734.219</td>\n",
       "      <td>736.311</td>\n",
       "      <td>spkr4:</td>\n",
       "      <td>I think we just remove the the %uh</td>\n",
       "      <td>I think we just remove the the %uh</td>\n",
       "      <td>307.941</td>\n",
       "      <td>310.033</td>\n",
       "      <td>2.092</td>\n",
       "      <td>6.815</td>\n",
       "      <td>8.907</td>\n",
       "    </tr>\n",
       "    <tr>\n",
       "      <th>218</th>\n",
       "      <td>736.755</td>\n",
       "      <td>737.621</td>\n",
       "      <td>spkr4:</td>\n",
       "      <td>%uh</td>\n",
       "      <td>%uh</td>\n",
       "      <td>310.477</td>\n",
       "      <td>311.343</td>\n",
       "      <td>0.866</td>\n",
       "      <td>8.907</td>\n",
       "      <td>9.773</td>\n",
       "    </tr>\n",
       "    <tr>\n",
       "      <th>219</th>\n",
       "      <td>738.014</td>\n",
       "      <td>740.962</td>\n",
       "      <td>spkr4:</td>\n",
       "      <td>speech recognition, which was four, and we add...</td>\n",
       "      <td>speech recognition, which was four, and we add...</td>\n",
       "      <td>311.736</td>\n",
       "      <td>314.684</td>\n",
       "      <td>2.948</td>\n",
       "      <td>9.773</td>\n",
       "      <td>12.721</td>\n",
       "    </tr>\n",
       "    <tr>\n",
       "      <th>220</th>\n",
       "      <td>741.355</td>\n",
       "      <td>742.709</td>\n",
       "      <td>spkr4:</td>\n",
       "      <td>okay, five point five.</td>\n",
       "      <td>okay, five point five.</td>\n",
       "      <td>315.077</td>\n",
       "      <td>316.431</td>\n",
       "      <td>1.354</td>\n",
       "      <td>12.721</td>\n",
       "      <td>14.075</td>\n",
       "    </tr>\n",
       "    <tr>\n",
       "      <th>222</th>\n",
       "      <td>745.402</td>\n",
       "      <td>746.052</td>\n",
       "      <td>spkr4:</td>\n",
       "      <td>Mhm.</td>\n",
       "      <td>Mhm.</td>\n",
       "      <td>319.124</td>\n",
       "      <td>319.774</td>\n",
       "      <td>0.650</td>\n",
       "      <td>14.075</td>\n",
       "      <td>14.725</td>\n",
       "    </tr>\n",
       "    <tr>\n",
       "      <th>223</th>\n",
       "      <td>746.276</td>\n",
       "      <td>747.208</td>\n",
       "      <td>spkr4:</td>\n",
       "      <td>No, but we just</td>\n",
       "      <td>No, but we just</td>\n",
       "      <td>319.998</td>\n",
       "      <td>320.930</td>\n",
       "      <td>0.932</td>\n",
       "      <td>14.725</td>\n",
       "      <td>15.657</td>\n",
       "    </tr>\n",
       "    <tr>\n",
       "      <th>244</th>\n",
       "      <td>771.235</td>\n",
       "      <td>774.724</td>\n",
       "      <td>spkr1:</td>\n",
       "      <td>And %uh maybe %ah &lt;contraction e_form=\"[it=&gt;it...</td>\n",
       "      <td>And %uh maybe %ah it's worth spending another</td>\n",
       "      <td>344.957</td>\n",
       "      <td>348.446</td>\n",
       "      <td>3.489</td>\n",
       "      <td>15.657</td>\n",
       "      <td>19.146</td>\n",
       "    </tr>\n",
       "    <tr>\n",
       "      <th>245</th>\n",
       "      <td>775.051</td>\n",
       "      <td>776.318</td>\n",
       "      <td>spkr1:</td>\n",
       "      <td>thirty cents</td>\n",
       "      <td>thirty cents</td>\n",
       "      <td>348.773</td>\n",
       "      <td>350.040</td>\n",
       "      <td>1.267</td>\n",
       "      <td>19.146</td>\n",
       "      <td>20.413</td>\n",
       "    </tr>\n",
       "    <tr>\n",
       "      <th>265</th>\n",
       "      <td>799.114</td>\n",
       "      <td>801.470</td>\n",
       "      <td>spkr4:</td>\n",
       "      <td>Should be fine, but -- are we not even allowed...</td>\n",
       "      <td>Should be fine, but -- are we not even allowed...</td>\n",
       "      <td>372.836</td>\n",
       "      <td>375.192</td>\n",
       "      <td>2.356</td>\n",
       "      <td>20.413</td>\n",
       "      <td>22.769</td>\n",
       "    </tr>\n",
       "    <tr>\n",
       "      <th>266</th>\n",
       "      <td>801.856</td>\n",
       "      <td>802.410</td>\n",
       "      <td>spkr4:</td>\n",
       "      <td>%uh g-</td>\n",
       "      <td>%uh g-</td>\n",
       "      <td>375.578</td>\n",
       "      <td>376.132</td>\n",
       "      <td>0.554</td>\n",
       "      <td>22.769</td>\n",
       "      <td>23.323</td>\n",
       "    </tr>\n",
       "    <tr>\n",
       "      <th>270</th>\n",
       "      <td>807.238</td>\n",
       "      <td>810.439</td>\n",
       "      <td>spkr1:</td>\n",
       "      <td>convince the higher up management with this pr...</td>\n",
       "      <td>convince the higher up management with this pr...</td>\n",
       "      <td>380.960</td>\n",
       "      <td>384.161</td>\n",
       "      <td>3.201</td>\n",
       "      <td>23.323</td>\n",
       "      <td>26.524</td>\n",
       "    </tr>\n",
       "    <tr>\n",
       "      <th>271</th>\n",
       "      <td>810.533</td>\n",
       "      <td>811.795</td>\n",
       "      <td>spkr1:</td>\n",
       "      <td>because %uh</td>\n",
       "      <td>because %uh</td>\n",
       "      <td>384.255</td>\n",
       "      <td>385.517</td>\n",
       "      <td>1.262</td>\n",
       "      <td>26.524</td>\n",
       "      <td>27.786</td>\n",
       "    </tr>\n",
       "    <tr>\n",
       "      <th>272</th>\n",
       "      <td>812.072</td>\n",
       "      <td>813.983</td>\n",
       "      <td>spkr1:</td>\n",
       "      <td>%uh we have quite a lot of features into it,</td>\n",
       "      <td>%uh we have quite a lot of features into it,</td>\n",
       "      <td>385.794</td>\n",
       "      <td>387.705</td>\n",
       "      <td>1.911</td>\n",
       "      <td>27.786</td>\n",
       "      <td>29.697</td>\n",
       "    </tr>\n",
       "    <tr>\n",
       "      <th>277</th>\n",
       "      <td>821.253</td>\n",
       "      <td>822.641</td>\n",
       "      <td>spkr1:</td>\n",
       "      <td>of the allocated budget.</td>\n",
       "      <td>of the allocated budget.</td>\n",
       "      <td>394.975</td>\n",
       "      <td>396.363</td>\n",
       "      <td>1.388</td>\n",
       "      <td>29.697</td>\n",
       "      <td>31.085</td>\n",
       "    </tr>\n",
       "  </tbody>\n",
       "</table>\n",
       "</div>"
      ],
      "text/plain": [
       "       start     stop speaker  \\\n",
       "99   588.955  589.775  spkr2:   \n",
       "110  598.007  598.899  spkr2:   \n",
       "111  599.143  600.558  spkr2:   \n",
       "112  602.459  604.051  spkr2:   \n",
       "113  604.556  606.652  spkr2:   \n",
       "217  734.219  736.311  spkr4:   \n",
       "218  736.755  737.621  spkr4:   \n",
       "219  738.014  740.962  spkr4:   \n",
       "220  741.355  742.709  spkr4:   \n",
       "222  745.402  746.052  spkr4:   \n",
       "223  746.276  747.208  spkr4:   \n",
       "244  771.235  774.724  spkr1:   \n",
       "245  775.051  776.318  spkr1:   \n",
       "265  799.114  801.470  spkr4:   \n",
       "266  801.856  802.410  spkr4:   \n",
       "270  807.238  810.439  spkr1:   \n",
       "271  810.533  811.795  spkr1:   \n",
       "272  812.072  813.983  spkr1:   \n",
       "277  821.253  822.641  spkr1:   \n",
       "\n",
       "                                                spoken  \\\n",
       "99                                                 %eh   \n",
       "110                                              also,   \n",
       "111                                        %eh rubber.   \n",
       "112  And you have rubber that <contraction e_form=\"...   \n",
       "113                   and you have a kinetic battery,    \n",
       "217                 I think we just remove the the %uh   \n",
       "218                                                %uh   \n",
       "219  speech recognition, which was four, and we add...   \n",
       "220                             okay, five point five.   \n",
       "222                                               Mhm.   \n",
       "223                                    No, but we just   \n",
       "244  And %uh maybe %ah <contraction e_form=\"[it=>it...   \n",
       "245                                       thirty cents   \n",
       "265  Should be fine, but -- are we not even allowed...   \n",
       "266                                            %uh g-    \n",
       "270  convince the higher up management with this pr...   \n",
       "271                                       because %uh    \n",
       "272      %uh we have quite a lot of features into it,    \n",
       "277                           of the allocated budget.   \n",
       "\n",
       "                                          spoken_clean  start_reset  \\\n",
       "99                                                 %eh      162.677   \n",
       "110                                              also,      171.729   \n",
       "111                                        %eh rubber.      172.865   \n",
       "112           And you have rubber that doesn't break,       176.181   \n",
       "113                   and you have a kinetic battery,       178.278   \n",
       "217                 I think we just remove the the %uh      307.941   \n",
       "218                                                %uh      310.477   \n",
       "219  speech recognition, which was four, and we add...      311.736   \n",
       "220                             okay, five point five.      315.077   \n",
       "222                                               Mhm.      319.124   \n",
       "223                                    No, but we just      319.998   \n",
       "244      And %uh maybe %ah it's worth spending another      344.957   \n",
       "245                                       thirty cents      348.773   \n",
       "265  Should be fine, but -- are we not even allowed...      372.836   \n",
       "266                                            %uh g-       375.578   \n",
       "270  convince the higher up management with this pr...      380.960   \n",
       "271                                       because %uh       384.255   \n",
       "272      %uh we have quite a lot of features into it,       385.794   \n",
       "277                           of the allocated budget.      394.975   \n",
       "\n",
       "     stop_reset  duration  start_seg  stop_seg  \n",
       "99      163.497     0.820      0.000     0.820  \n",
       "110     172.621     0.892      0.820     1.712  \n",
       "111     174.280     1.415      1.712     3.127  \n",
       "112     177.773     1.592      3.127     4.719  \n",
       "113     180.374     2.096      4.719     6.815  \n",
       "217     310.033     2.092      6.815     8.907  \n",
       "218     311.343     0.866      8.907     9.773  \n",
       "219     314.684     2.948      9.773    12.721  \n",
       "220     316.431     1.354     12.721    14.075  \n",
       "222     319.774     0.650     14.075    14.725  \n",
       "223     320.930     0.932     14.725    15.657  \n",
       "244     348.446     3.489     15.657    19.146  \n",
       "245     350.040     1.267     19.146    20.413  \n",
       "265     375.192     2.356     20.413    22.769  \n",
       "266     376.132     0.554     22.769    23.323  \n",
       "270     384.161     3.201     23.323    26.524  \n",
       "271     385.517     1.262     26.524    27.786  \n",
       "272     387.705     1.911     27.786    29.697  \n",
       "277     396.363     1.388     29.697    31.085  "
      ]
     },
     "execution_count": 16,
     "metadata": {},
     "output_type": "execute_result"
    }
   ],
   "source": [
    "get_segment_df(1,idx_speakerlabels_artif,df_nooverlap)"
   ]
  },
  {
   "cell_type": "code",
   "execution_count": 17,
   "metadata": {},
   "outputs": [],
   "source": [
    "def get_gold_standard_data(seg_df_gold): \n",
    "    gold_data_label = {}\n",
    "    current_speaker = ''\n",
    "    mid_list = []\n",
    "    for item in zip(seg_df_gold.start_seg, seg_df_gold.stop_seg, seg_df_gold.speaker ):\n",
    "        start, stop, speaker = item\n",
    "        if speaker!= current_speaker:\n",
    "\n",
    "            try:\n",
    "                gold_data_label[current_speaker] = gold_data_label[current_speaker]+[(min(mid_list),max(mid_list))]\n",
    "            except KeyError:\n",
    "                try:\n",
    "                    gold_data_label[current_speaker] = [(min(mid_list),max(mid_list))]\n",
    "                except ValueError:\n",
    "                    pass\n",
    "            current_speaker = speaker\n",
    "            mid_list = []\n",
    "            mid_list.extend([start, stop])\n",
    "        if speaker== current_speaker:\n",
    "            mid_list.extend([start, stop])\n",
    "\n",
    "    try:\n",
    "        gold_data_label[current_speaker] = gold_data_label[current_speaker]+[(min(mid_list),max(mid_list))]\n",
    "    except KeyError:\n",
    "        try:\n",
    "            gold_data_label[current_speaker] = [(min(mid_list),max(mid_list))]\n",
    "        except ValueError:\n",
    "            pass\n",
    "        \n",
    "    return gold_data_label\n"
   ]
  },
  {
   "cell_type": "code",
   "execution_count": 18,
   "metadata": {},
   "outputs": [
    {
     "name": "stderr",
     "output_type": "stream",
     "text": [
      "/Users/pari/University/unienv/lib/python3.6/site-packages/ipykernel_launcher.py:2: DeprecationWarning: \n",
      ".ix is deprecated. Please use\n",
      ".loc for label based indexing or\n",
      ".iloc for positional indexing\n",
      "\n",
      "See the documentation here:\n",
      "http://pandas.pydata.org/pandas-docs/stable/indexing.html#ix-indexer-is-deprecated\n",
      "  \n"
     ]
    }
   ],
   "source": [
    "gold_speaker_start_stop_labels = get_gold_standard_data(get_segment_df(1,idx_speakerlabels_artif,df_nooverlap))"
   ]
  },
  {
   "cell_type": "code",
   "execution_count": 19,
   "metadata": {},
   "outputs": [
    {
     "data": {
      "text/plain": [
       "{'spkr2:': [(0.0, 6.8149999999997135)],\n",
       " 'spkr4:': [(6.8149999999997135, 15.657000000000039),\n",
       "  (20.412999999999897, 23.322999999999865)],\n",
       " 'spkr1:': [(15.657000000000039, 20.412999999999897),\n",
       "  (23.322999999999865, 31.08499999999981)]}"
      ]
     },
     "execution_count": 19,
     "metadata": {},
     "output_type": "execute_result"
    }
   ],
   "source": [
    "gold_speaker_start_stop_labels"
   ]
  },
  {
   "cell_type": "code",
   "execution_count": 20,
   "metadata": {},
   "outputs": [
    {
     "data": {
      "image/png": "[encoded data removed]",
      "text/plain": [
       "<Figure size 432x288 with 1 Axes>"
      ]
     },
     "metadata": {
      "needs_background": "light"
     },
     "output_type": "display_data"
    }
   ],
   "source": [
    "plot_segments(gold_speaker_start_stop_labels)"
   ]
  },
  {
   "cell_type": "markdown",
   "metadata": {},
   "source": [
    "## Predicted data"
   ]
  },
  {
   "cell_type": "code",
   "execution_count": 21,
   "metadata": {},
   "outputs": [],
   "source": [
    "diar_data = pickle.load(open(path,'rb'))\n",
    "feats,predicted_label,intervals, speaker_assingments,time_spec_rate = diar_data"
   ]
  },
  {
   "cell_type": "code",
   "execution_count": 22,
   "metadata": {},
   "outputs": [
    {
     "data": {
      "text/plain": [
       "{'0': [('0.224', '7.42')],\n",
       " '1': [('7.42', '15.12'), ('20.936', '23.78')],\n",
       " '2': [('15.12', '20.936'), ('23.78', '29.148')]}"
      ]
     },
     "execution_count": 22,
     "metadata": {},
     "output_type": "execute_result"
    }
   ],
   "source": [
    "segments = {}\n",
    "for item in speaker_assingments:\n",
    "    start, stop, label, filepath = item\n",
    "    try:\n",
    "        segments[label] = segments[label]+[(start, stop)]\n",
    "    except KeyError:\n",
    "        segments[label] = [(start, stop)]\n",
    "        \n",
    "        \n",
    "segments"
   ]
  },
  {
   "cell_type": "code",
   "execution_count": 23,
   "metadata": {},
   "outputs": [
    {
     "data": {
      "image/png": "[encoded data removed]",
      "text/plain": [
       "<Figure size 432x288 with 1 Axes>"
      ]
     },
     "metadata": {
      "needs_background": "light"
     },
     "output_type": "display_data"
    }
   ],
   "source": [
    "plot_segments(segments)"
   ]
  },
  {
   "cell_type": "code",
   "execution_count": null,
   "metadata": {},
   "outputs": [],
   "source": []
  },
  {
   "cell_type": "code",
   "execution_count": null,
   "metadata": {},
   "outputs": [],
   "source": []
  }
 ],
 "metadata": {
  "kernelspec": {
   "display_name": "Python 3",
   "language": "python",
   "name": "python3"
  },
  "language_info": {
   "codemirror_mode": {
    "name": "ipython",
    "version": 3
   },
   "file_extension": ".py",
   "mimetype": "text/x-python",
   "name": "python",
   "nbconvert_exporter": "python",
   "pygments_lexer": "ipython3",
   "version": "3.6.6"
  }
 },
 "nbformat": 4,
 "nbformat_minor": 2
}
