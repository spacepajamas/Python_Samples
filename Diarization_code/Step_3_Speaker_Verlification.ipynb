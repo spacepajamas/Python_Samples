{
 "cells": [
  {
   "cell_type": "markdown",
   "metadata": {},
   "source": [
    "#  One shot speaker verification \n",
    "- Get this repo: https://github.com/julik43/Online-Identification-of-New-Speakers\n",
    "            \n",
    "- Download \"2weights.ckpt.data-00000-of-00001\" from: http://calebrascon.info/oneshotid/2weights.ckpt.data-00000-of-00001 and move it to VGG11_EmphSpec folder\n",
    "- put  *identification_system_PG.py* in the directory Online-Identification-of-New-Speakers\n"
   ]
  },
  {
   "cell_type": "code",
   "execution_count": 1,
   "metadata": {},
   "outputs": [
    {
     "name": "stdout",
     "output_type": "stream",
     "text": [
      "WARNING:tensorflow:From /Users/pari/University/DIAR_Project/Diar_Data_verification/Online-Identification-of-New-Speakers-master/identification_system_PG.py:240: get_or_create_global_step (from tensorflow.contrib.framework.python.ops.variables) is deprecated and will be removed in a future version.\n",
      "Instructions for updating:\n",
      "Please switch to tf.train.get_or_create_global_step\n",
      "WARNING:tensorflow:From /Users/pari/University/DIAR_Project/Diar_Data_verification/Online-Identification-of-New-Speakers-master/identification_system_PG.py:428: softmax_cross_entropy_with_logits (from tensorflow.python.ops.nn_ops) is deprecated and will be removed in a future version.\n",
      "Instructions for updating:\n",
      "\n",
      "Future major versions of TensorFlow will allow gradients to flow\n",
      "into the labels input on backprop by default.\n",
      "\n",
      "See `tf.nn.softmax_cross_entropy_with_logits_v2`.\n",
      "\n"
     ]
    }
   ],
   "source": [
    "import identification_system_PG as ISPG\n",
    "import pickle\n",
    "import glob"
   ]
  },
  {
   "cell_type": "markdown",
   "metadata": {},
   "source": [
    "see previous notebooks for **data_gold** was created"
   ]
  },
  {
   "cell_type": "code",
   "execution_count": 25,
   "metadata": {},
   "outputs": [],
   "source": [
    "filename_header = '~/DEMO_DATA/'\n",
    "## path to pkl file that contains datframe with non overlapping data\n",
    "\n",
    "path_gold = filename_header+'df_data/x.pkl'\n",
    "data_gold = pickle.load(open(path_gold,'rb'))\n"
   ]
  },
  {
   "cell_type": "code",
   "execution_count": 4,
   "metadata": {},
   "outputs": [],
   "source": [
    "df_all, df_nooverlap,speaker_assingments, idx__cut_ranges_original,idx_speakerlabels_artif, artif_segment_filepaths = data_gold\n"
   ]
  },
  {
   "cell_type": "code",
   "execution_count": 5,
   "metadata": {},
   "outputs": [
    {
     "data": {
      "text/html": [
       "<div>\n",
       "<style scoped>\n",
       "    .dataframe tbody tr th:only-of-type {\n",
       "        vertical-align: middle;\n",
       "    }\n",
       "\n",
       "    .dataframe tbody tr th {\n",
       "        vertical-align: top;\n",
       "    }\n",
       "\n",
       "    .dataframe thead th {\n",
       "        text-align: right;\n",
       "    }\n",
       "</style>\n",
       "<table border=\"1\" class=\"dataframe\">\n",
       "  <thead>\n",
       "    <tr style=\"text-align: right;\">\n",
       "      <th></th>\n",
       "      <th>start</th>\n",
       "      <th>stop</th>\n",
       "      <th>speaker</th>\n",
       "      <th>spoken</th>\n",
       "      <th>spoken_clean</th>\n",
       "      <th>start_reset</th>\n",
       "      <th>stop_reset</th>\n",
       "      <th>duration</th>\n",
       "    </tr>\n",
       "  </thead>\n",
       "  <tbody>\n",
       "    <tr>\n",
       "      <th>5</th>\n",
       "      <td>432.812</td>\n",
       "      <td>434.017</td>\n",
       "      <td>spkr1:</td>\n",
       "      <td>kinetic battery.</td>\n",
       "      <td>kinetic battery.</td>\n",
       "      <td>6.534</td>\n",
       "      <td>7.739</td>\n",
       "      <td>1.205</td>\n",
       "    </tr>\n",
       "    <tr>\n",
       "      <th>6</th>\n",
       "      <td>434.307</td>\n",
       "      <td>436.552</td>\n",
       "      <td>spkr1:</td>\n",
       "      <td>And this costs us three euros.</td>\n",
       "      <td>And this costs us three euros.</td>\n",
       "      <td>8.029</td>\n",
       "      <td>10.274</td>\n",
       "      <td>2.245</td>\n",
       "    </tr>\n",
       "    <tr>\n",
       "      <th>10</th>\n",
       "      <td>439.034</td>\n",
       "      <td>440.489</td>\n",
       "      <td>spkr1:</td>\n",
       "      <td>And %uh</td>\n",
       "      <td>And %uh</td>\n",
       "      <td>12.756</td>\n",
       "      <td>14.211</td>\n",
       "      <td>1.455</td>\n",
       "    </tr>\n",
       "  </tbody>\n",
       "</table>\n",
       "</div>"
      ],
      "text/plain": [
       "      start     stop speaker                          spoken  \\\n",
       "5   432.812  434.017  spkr1:               kinetic battery.    \n",
       "6   434.307  436.552  spkr1:  And this costs us three euros.   \n",
       "10  439.034  440.489  spkr1:                         And %uh   \n",
       "\n",
       "                      spoken_clean  start_reset  stop_reset  duration  \n",
       "5                kinetic battery.         6.534       7.739     1.205  \n",
       "6   And this costs us three euros.        8.029      10.274     2.245  \n",
       "10                         And %uh       12.756      14.211     1.455  "
      ]
     },
     "execution_count": 5,
     "metadata": {},
     "output_type": "execute_result"
    }
   ],
   "source": [
    "df_nooverlap.head(3)"
   ]
  },
  {
   "cell_type": "code",
   "execution_count": 6,
   "metadata": {},
   "outputs": [],
   "source": [
    "def create_train_val_set(data_gold,speaker_label,num_utterences = 3):\n",
    "    df_all, df_nooverlap,speaker_assingments, idx__cut_ranges_original,idx_speakerlabels_artif, artif_segment_filepaths = data_gold\n",
    "\n",
    "    spkr_df = df_nooverlap[df_nooverlap.speaker ==speaker_label]\n",
    "    train_df_spkr = spkr_df.sort_values(by=['duration'], ascending=False).head(num_utterences)\n",
    "    validation_df_spkr=spkr_df.sort_values(by=['duration'], ascending=False).iloc[num_utterences:]\n",
    "    \n",
    "    return train_df_spkr, validation_df_spkr\n",
    "\n",
    "\n",
    "    "
   ]
  },
  {
   "cell_type": "code",
   "execution_count": 7,
   "metadata": {},
   "outputs": [],
   "source": [
    "def validate_speaker_reference(validation_df_spkr, num_verified = None):\n",
    "    \n",
    "    all_pred_labs = []\n",
    "    all_pred_probs = []\n",
    "\n",
    "    # print(validation_df_spkr.shape)\n",
    "    if num_verified ==None:\n",
    "        num_verified = validation_df_spkr.shape[0]\n",
    "        \n",
    "    \n",
    "    for item in validation_df_spkr.index[:num_verified]:\n",
    "        try:\n",
    "            y = glob.glob(filename_header+'single_phrases/'+str(item)+'_*.wav')\n",
    "            audio_file_path = y[0]\n",
    "            lab_pred, prob_pred = ISPG.classify_segment_PG(audio_file_path )\n",
    "            all_pred_labs.append(lab_pred)\n",
    "            all_pred_probs.append(prob_pred)\n",
    "        except TypeError:\n",
    "            all_pred_labs.append(None)\n",
    "            all_pred_probs.append(None)\n",
    "\n",
    "            \n",
    "    \n",
    "    out_df = validation_df_spkr.head(num_verified)\n",
    "    out_df['label_pred'] = all_pred_labs\n",
    "    out_df['probability_pred'] = all_pred_probs\n",
    "    # print(out_df.shape)\n",
    "    \n",
    "    return out_df\n",
    "\n",
    "\n"
   ]
  },
  {
   "cell_type": "code",
   "execution_count": 8,
   "metadata": {},
   "outputs": [],
   "source": [
    "def create_speaker_reference(train_df_spkr, label ):\n",
    "    \n",
    "    for item in train_df_spkr.index:\n",
    "        y = glob.glob(filename_header+'single_phrases/'+str(item)+'_*.wav')\n",
    "        audio_file_path = y[0]\n",
    "        ISPG.classify_label_correct(audio_file_path, add_label=True, label = label )\n",
    "        \n"
   ]
  },
  {
   "cell_type": "code",
   "execution_count": 9,
   "metadata": {},
   "outputs": [],
   "source": [
    "# speaker 4 total non overlapping duration"
   ]
  },
  {
   "cell_type": "code",
   "execution_count": 10,
   "metadata": {},
   "outputs": [
    {
     "data": {
      "text/plain": [
       "139.93399999999963"
      ]
     },
     "execution_count": 10,
     "metadata": {},
     "output_type": "execute_result"
    }
   ],
   "source": [
    "df_nooverlap[df_nooverlap.speaker =='spkr4:'].duration.sum()"
   ]
  },
  {
   "cell_type": "code",
   "execution_count": 11,
   "metadata": {},
   "outputs": [
    {
     "data": {
      "text/html": [
       "<div>\n",
       "<style scoped>\n",
       "    .dataframe tbody tr th:only-of-type {\n",
       "        vertical-align: middle;\n",
       "    }\n",
       "\n",
       "    .dataframe tbody tr th {\n",
       "        vertical-align: top;\n",
       "    }\n",
       "\n",
       "    .dataframe thead th {\n",
       "        text-align: right;\n",
       "    }\n",
       "</style>\n",
       "<table border=\"1\" class=\"dataframe\">\n",
       "  <thead>\n",
       "    <tr style=\"text-align: right;\">\n",
       "      <th></th>\n",
       "      <th>start</th>\n",
       "      <th>stop</th>\n",
       "      <th>speaker</th>\n",
       "      <th>spoken</th>\n",
       "      <th>spoken_clean</th>\n",
       "      <th>start_reset</th>\n",
       "      <th>stop_reset</th>\n",
       "      <th>duration</th>\n",
       "    </tr>\n",
       "  </thead>\n",
       "  <tbody>\n",
       "    <tr>\n",
       "      <th>51</th>\n",
       "      <td>510.233</td>\n",
       "      <td>511.531</td>\n",
       "      <td>spkr4:</td>\n",
       "      <td>((the hand dynamo))</td>\n",
       "      <td>((the hand dynamo))</td>\n",
       "      <td>83.955</td>\n",
       "      <td>85.253</td>\n",
       "      <td>1.298</td>\n",
       "    </tr>\n",
       "    <tr>\n",
       "      <th>65</th>\n",
       "      <td>539.104</td>\n",
       "      <td>541.254</td>\n",
       "      <td>spkr4:</td>\n",
       "      <td>We &lt;contraction e_form=\"[can't=&gt;cannot]\"&gt;can't...</td>\n",
       "      <td>We they're all {laugh}</td>\n",
       "      <td>112.826</td>\n",
       "      <td>114.976</td>\n",
       "      <td>2.150</td>\n",
       "    </tr>\n",
       "    <tr>\n",
       "      <th>82</th>\n",
       "      <td>569.211</td>\n",
       "      <td>569.821</td>\n",
       "      <td>spkr4:</td>\n",
       "      <td>Mhm.</td>\n",
       "      <td>Mhm.</td>\n",
       "      <td>142.933</td>\n",
       "      <td>143.543</td>\n",
       "      <td>0.610</td>\n",
       "    </tr>\n",
       "  </tbody>\n",
       "</table>\n",
       "</div>"
      ],
      "text/plain": [
       "      start     stop speaker  \\\n",
       "51  510.233  511.531  spkr4:   \n",
       "65  539.104  541.254  spkr4:   \n",
       "82  569.211  569.821  spkr4:   \n",
       "\n",
       "                                               spoken  \\\n",
       "51                               ((the hand dynamo))    \n",
       "65  We <contraction e_form=\"[can't=>cannot]\">can't...   \n",
       "82                                               Mhm.   \n",
       "\n",
       "               spoken_clean  start_reset  stop_reset  duration  \n",
       "51     ((the hand dynamo))        83.955      85.253     1.298  \n",
       "65  We they're all {laugh}       112.826     114.976     2.150  \n",
       "82                     Mhm.      142.933     143.543     0.610  "
      ]
     },
     "execution_count": 11,
     "metadata": {},
     "output_type": "execute_result"
    }
   ],
   "source": [
    "spkr4_df = df_nooverlap[df_nooverlap.speaker =='spkr4:']\n",
    "spkr4_df.head(3)"
   ]
  },
  {
   "cell_type": "code",
   "execution_count": 12,
   "metadata": {},
   "outputs": [
    {
     "data": {
      "text/html": [
       "<div>\n",
       "<style scoped>\n",
       "    .dataframe tbody tr th:only-of-type {\n",
       "        vertical-align: middle;\n",
       "    }\n",
       "\n",
       "    .dataframe tbody tr th {\n",
       "        vertical-align: top;\n",
       "    }\n",
       "\n",
       "    .dataframe thead th {\n",
       "        text-align: right;\n",
       "    }\n",
       "</style>\n",
       "<table border=\"1\" class=\"dataframe\">\n",
       "  <thead>\n",
       "    <tr style=\"text-align: right;\">\n",
       "      <th></th>\n",
       "      <th>start</th>\n",
       "      <th>stop</th>\n",
       "      <th>speaker</th>\n",
       "      <th>spoken</th>\n",
       "      <th>spoken_clean</th>\n",
       "      <th>start_reset</th>\n",
       "      <th>stop_reset</th>\n",
       "      <th>duration</th>\n",
       "    </tr>\n",
       "  </thead>\n",
       "  <tbody>\n",
       "    <tr>\n",
       "      <th>409</th>\n",
       "      <td>1040.478</td>\n",
       "      <td>1046.567</td>\n",
       "      <td>spkr4:</td>\n",
       "      <td>is something which comes after you ((b-)) -- I...</td>\n",
       "      <td>is something which comes after you ((b-)) -- I...</td>\n",
       "      <td>614.200</td>\n",
       "      <td>620.289</td>\n",
       "      <td>6.089</td>\n",
       "    </tr>\n",
       "    <tr>\n",
       "      <th>769</th>\n",
       "      <td>1712.245</td>\n",
       "      <td>1717.774</td>\n",
       "      <td>spkr4:</td>\n",
       "      <td>This is quite cool. So so this does not say an...</td>\n",
       "      <td>This is quite cool. So so this does not say an...</td>\n",
       "      <td>1285.967</td>\n",
       "      <td>1291.496</td>\n",
       "      <td>5.529</td>\n",
       "    </tr>\n",
       "    <tr>\n",
       "      <th>307</th>\n",
       "      <td>878.038</td>\n",
       "      <td>882.427</td>\n",
       "      <td>spkr4:</td>\n",
       "      <td>remote to the existing remotes for the ~T ~V. ...</td>\n",
       "      <td>remote to the existing remotes for the ~T ~V. ...</td>\n",
       "      <td>451.760</td>\n",
       "      <td>456.149</td>\n",
       "      <td>4.389</td>\n",
       "    </tr>\n",
       "  </tbody>\n",
       "</table>\n",
       "</div>"
      ],
      "text/plain": [
       "        start      stop speaker  \\\n",
       "409  1040.478  1046.567  spkr4:   \n",
       "769  1712.245  1717.774  spkr4:   \n",
       "307   878.038   882.427  spkr4:   \n",
       "\n",
       "                                                spoken  \\\n",
       "409  is something which comes after you ((b-)) -- I...   \n",
       "769  This is quite cool. So so this does not say an...   \n",
       "307  remote to the existing remotes for the ~T ~V. ...   \n",
       "\n",
       "                                          spoken_clean  start_reset  \\\n",
       "409  is something which comes after you ((b-)) -- I...      614.200   \n",
       "769  This is quite cool. So so this does not say an...     1285.967   \n",
       "307  remote to the existing remotes for the ~T ~V. ...      451.760   \n",
       "\n",
       "     stop_reset  duration  \n",
       "409     620.289     6.089  \n",
       "769    1291.496     5.529  \n",
       "307     456.149     4.389  "
      ]
     },
     "execution_count": 12,
     "metadata": {},
     "output_type": "execute_result"
    }
   ],
   "source": [
    "spkr4_df.sort_values(by=['duration'], ascending=False).head(3)"
   ]
  },
  {
   "cell_type": "code",
   "execution_count": 13,
   "metadata": {},
   "outputs": [],
   "source": [
    "num_utterences = 3 # for train set"
   ]
  },
  {
   "cell_type": "code",
   "execution_count": 14,
   "metadata": {},
   "outputs": [
    {
     "data": {
      "text/plain": [
       "16.006999999999948"
      ]
     },
     "execution_count": 14,
     "metadata": {},
     "output_type": "execute_result"
    }
   ],
   "source": [
    "# train set speaker total duration\n",
    "spkr4_df.sort_values(by=['duration'], ascending=False).head(num_utterences).duration.sum()"
   ]
  },
  {
   "cell_type": "markdown",
   "metadata": {},
   "source": [
    "## create train validation set"
   ]
  },
  {
   "cell_type": "code",
   "execution_count": 15,
   "metadata": {},
   "outputs": [],
   "source": [
    "train_df_sp4, validation_df_sp4 = create_train_val_set(data_gold,speaker_label='spkr4:',num_utterences = 3)"
   ]
  },
  {
   "cell_type": "code",
   "execution_count": 16,
   "metadata": {},
   "outputs": [
    {
     "data": {
      "text/html": [
       "<div>\n",
       "<style scoped>\n",
       "    .dataframe tbody tr th:only-of-type {\n",
       "        vertical-align: middle;\n",
       "    }\n",
       "\n",
       "    .dataframe tbody tr th {\n",
       "        vertical-align: top;\n",
       "    }\n",
       "\n",
       "    .dataframe thead th {\n",
       "        text-align: right;\n",
       "    }\n",
       "</style>\n",
       "<table border=\"1\" class=\"dataframe\">\n",
       "  <thead>\n",
       "    <tr style=\"text-align: right;\">\n",
       "      <th></th>\n",
       "      <th>start</th>\n",
       "      <th>stop</th>\n",
       "      <th>speaker</th>\n",
       "      <th>spoken</th>\n",
       "      <th>spoken_clean</th>\n",
       "      <th>start_reset</th>\n",
       "      <th>stop_reset</th>\n",
       "      <th>duration</th>\n",
       "    </tr>\n",
       "  </thead>\n",
       "  <tbody>\n",
       "    <tr>\n",
       "      <th>409</th>\n",
       "      <td>1040.478</td>\n",
       "      <td>1046.567</td>\n",
       "      <td>spkr4:</td>\n",
       "      <td>is something which comes after you ((b-)) -- I...</td>\n",
       "      <td>is something which comes after you ((b-)) -- I...</td>\n",
       "      <td>614.200</td>\n",
       "      <td>620.289</td>\n",
       "      <td>6.089</td>\n",
       "    </tr>\n",
       "    <tr>\n",
       "      <th>769</th>\n",
       "      <td>1712.245</td>\n",
       "      <td>1717.774</td>\n",
       "      <td>spkr4:</td>\n",
       "      <td>This is quite cool. So so this does not say an...</td>\n",
       "      <td>This is quite cool. So so this does not say an...</td>\n",
       "      <td>1285.967</td>\n",
       "      <td>1291.496</td>\n",
       "      <td>5.529</td>\n",
       "    </tr>\n",
       "    <tr>\n",
       "      <th>307</th>\n",
       "      <td>878.038</td>\n",
       "      <td>882.427</td>\n",
       "      <td>spkr4:</td>\n",
       "      <td>remote to the existing remotes for the ~T ~V. ...</td>\n",
       "      <td>remote to the existing remotes for the ~T ~V. ...</td>\n",
       "      <td>451.760</td>\n",
       "      <td>456.149</td>\n",
       "      <td>4.389</td>\n",
       "    </tr>\n",
       "  </tbody>\n",
       "</table>\n",
       "</div>"
      ],
      "text/plain": [
       "        start      stop speaker  \\\n",
       "409  1040.478  1046.567  spkr4:   \n",
       "769  1712.245  1717.774  spkr4:   \n",
       "307   878.038   882.427  spkr4:   \n",
       "\n",
       "                                                spoken  \\\n",
       "409  is something which comes after you ((b-)) -- I...   \n",
       "769  This is quite cool. So so this does not say an...   \n",
       "307  remote to the existing remotes for the ~T ~V. ...   \n",
       "\n",
       "                                          spoken_clean  start_reset  \\\n",
       "409  is something which comes after you ((b-)) -- I...      614.200   \n",
       "769  This is quite cool. So so this does not say an...     1285.967   \n",
       "307  remote to the existing remotes for the ~T ~V. ...      451.760   \n",
       "\n",
       "     stop_reset  duration  \n",
       "409     620.289     6.089  \n",
       "769    1291.496     5.529  \n",
       "307     456.149     4.389  "
      ]
     },
     "execution_count": 16,
     "metadata": {},
     "output_type": "execute_result"
    }
   ],
   "source": [
    "train_df_sp4.head()"
   ]
  },
  {
   "cell_type": "code",
   "execution_count": 17,
   "metadata": {},
   "outputs": [
    {
     "data": {
      "text/html": [
       "<div>\n",
       "<style scoped>\n",
       "    .dataframe tbody tr th:only-of-type {\n",
       "        vertical-align: middle;\n",
       "    }\n",
       "\n",
       "    .dataframe tbody tr th {\n",
       "        vertical-align: top;\n",
       "    }\n",
       "\n",
       "    .dataframe thead th {\n",
       "        text-align: right;\n",
       "    }\n",
       "</style>\n",
       "<table border=\"1\" class=\"dataframe\">\n",
       "  <thead>\n",
       "    <tr style=\"text-align: right;\">\n",
       "      <th></th>\n",
       "      <th>start</th>\n",
       "      <th>stop</th>\n",
       "      <th>speaker</th>\n",
       "      <th>spoken</th>\n",
       "      <th>spoken_clean</th>\n",
       "      <th>start_reset</th>\n",
       "      <th>stop_reset</th>\n",
       "      <th>duration</th>\n",
       "    </tr>\n",
       "  </thead>\n",
       "  <tbody>\n",
       "    <tr>\n",
       "      <th>440</th>\n",
       "      <td>1108.996</td>\n",
       "      <td>1113.241</td>\n",
       "      <td>spkr4:</td>\n",
       "      <td>But then if you have the scroll and you &lt;contr...</td>\n",
       "      <td>But then if you have the scroll and you don't ...</td>\n",
       "      <td>682.718</td>\n",
       "      <td>686.963</td>\n",
       "      <td>4.245</td>\n",
       "    </tr>\n",
       "    <tr>\n",
       "      <th>460</th>\n",
       "      <td>1145.799</td>\n",
       "      <td>1149.684</td>\n",
       "      <td>spkr4:</td>\n",
       "      <td>in the market, and probably you can go with th...</td>\n",
       "      <td>in the market, and probably you can go with th...</td>\n",
       "      <td>719.521</td>\n",
       "      <td>723.406</td>\n",
       "      <td>3.885</td>\n",
       "    </tr>\n",
       "    <tr>\n",
       "      <th>306</th>\n",
       "      <td>874.230</td>\n",
       "      <td>877.884</td>\n",
       "      <td>spkr4:</td>\n",
       "      <td>Well tell me one thing. We are anyway position...</td>\n",
       "      <td>Well tell me one thing. We are anyway position...</td>\n",
       "      <td>447.952</td>\n",
       "      <td>451.606</td>\n",
       "      <td>3.654</td>\n",
       "    </tr>\n",
       "  </tbody>\n",
       "</table>\n",
       "</div>"
      ],
      "text/plain": [
       "        start      stop speaker  \\\n",
       "440  1108.996  1113.241  spkr4:   \n",
       "460  1145.799  1149.684  spkr4:   \n",
       "306   874.230   877.884  spkr4:   \n",
       "\n",
       "                                                spoken  \\\n",
       "440  But then if you have the scroll and you <contr...   \n",
       "460  in the market, and probably you can go with th...   \n",
       "306  Well tell me one thing. We are anyway position...   \n",
       "\n",
       "                                          spoken_clean  start_reset  \\\n",
       "440  But then if you have the scroll and you don't ...      682.718   \n",
       "460  in the market, and probably you can go with th...      719.521   \n",
       "306  Well tell me one thing. We are anyway position...      447.952   \n",
       "\n",
       "     stop_reset  duration  \n",
       "440     686.963     4.245  \n",
       "460     723.406     3.885  \n",
       "306     451.606     3.654  "
      ]
     },
     "execution_count": 17,
     "metadata": {},
     "output_type": "execute_result"
    }
   ],
   "source": [
    "validation_df_sp4.head(3)"
   ]
  },
  {
   "cell_type": "code",
   "execution_count": 18,
   "metadata": {},
   "outputs": [],
   "source": [
    "train_df_sp3, validation_df_sp3 = create_train_val_set(data_gold,speaker_label='spkr3:',num_utterences = 3)"
   ]
  },
  {
   "cell_type": "markdown",
   "metadata": {},
   "source": [
    "## Create speaker reference "
   ]
  },
  {
   "cell_type": "code",
   "execution_count": 19,
   "metadata": {},
   "outputs": [
    {
     "name": "stdout",
     "output_type": "stream",
     "text": [
      "INFO:tensorflow:Restoring parameters from VGG11_EmphSpec/2weights.ckpt\n",
      "INFO:tensorflow:Restoring parameters from VGG11_EmphSpec/2weights.ckpt\n",
      "INFO:tensorflow:Restoring parameters from VGG11_EmphSpec/2weights.ckpt\n"
     ]
    }
   ],
   "source": [
    "create_speaker_reference(train_df_sp4, label = 'spkr4' )"
   ]
  },
  {
   "cell_type": "code",
   "execution_count": 20,
   "metadata": {},
   "outputs": [
    {
     "name": "stdout",
     "output_type": "stream",
     "text": [
      "INFO:tensorflow:Restoring parameters from VGG11_EmphSpec/2weights.ckpt\n",
      "INFO:tensorflow:Restoring parameters from VGG11_EmphSpec/2weights.ckpt\n",
      "INFO:tensorflow:Restoring parameters from VGG11_EmphSpec/2weights.ckpt\n"
     ]
    }
   ],
   "source": [
    "create_speaker_reference(train_df_sp3, label = 'spkr3' )"
   ]
  },
  {
   "cell_type": "markdown",
   "metadata": {},
   "source": [
    "## Validate results"
   ]
  },
  {
   "cell_type": "code",
   "execution_count": 21,
   "metadata": {},
   "outputs": [
    {
     "name": "stdout",
     "output_type": "stream",
     "text": [
      "INFO:tensorflow:Restoring parameters from VGG11_EmphSpec/2weights.ckpt\n",
      "INFO:tensorflow:Restoring parameters from VGG11_EmphSpec/2weights.ckpt\n",
      "INFO:tensorflow:Restoring parameters from VGG11_EmphSpec/2weights.ckpt\n",
      "INFO:tensorflow:Restoring parameters from VGG11_EmphSpec/2weights.ckpt\n",
      "INFO:tensorflow:Restoring parameters from VGG11_EmphSpec/2weights.ckpt\n"
     ]
    },
    {
     "name": "stderr",
     "output_type": "stream",
     "text": [
      "/Users/pari/University/unienv/lib/python3.6/site-packages/ipykernel_launcher.py:25: SettingWithCopyWarning: \n",
      "A value is trying to be set on a copy of a slice from a DataFrame.\n",
      "Try using .loc[row_indexer,col_indexer] = value instead\n",
      "\n",
      "See the caveats in the documentation: http://pandas.pydata.org/pandas-docs/stable/indexing.html#indexing-view-versus-copy\n",
      "/Users/pari/University/unienv/lib/python3.6/site-packages/ipykernel_launcher.py:26: SettingWithCopyWarning: \n",
      "A value is trying to be set on a copy of a slice from a DataFrame.\n",
      "Try using .loc[row_indexer,col_indexer] = value instead\n",
      "\n",
      "See the caveats in the documentation: http://pandas.pydata.org/pandas-docs/stable/indexing.html#indexing-view-versus-copy\n"
     ]
    }
   ],
   "source": [
    "sprk_4_df = validate_speaker_reference(validation_df_sp4,5)"
   ]
  },
  {
   "cell_type": "code",
   "execution_count": 22,
   "metadata": {},
   "outputs": [
    {
     "name": "stdout",
     "output_type": "stream",
     "text": [
      "INFO:tensorflow:Restoring parameters from VGG11_EmphSpec/2weights.ckpt\n",
      "INFO:tensorflow:Restoring parameters from VGG11_EmphSpec/2weights.ckpt\n",
      "INFO:tensorflow:Restoring parameters from VGG11_EmphSpec/2weights.ckpt\n",
      "INFO:tensorflow:Restoring parameters from VGG11_EmphSpec/2weights.ckpt\n",
      "INFO:tensorflow:Restoring parameters from VGG11_EmphSpec/2weights.ckpt\n"
     ]
    },
    {
     "name": "stderr",
     "output_type": "stream",
     "text": [
      "/Users/pari/University/unienv/lib/python3.6/site-packages/ipykernel_launcher.py:25: SettingWithCopyWarning: \n",
      "A value is trying to be set on a copy of a slice from a DataFrame.\n",
      "Try using .loc[row_indexer,col_indexer] = value instead\n",
      "\n",
      "See the caveats in the documentation: http://pandas.pydata.org/pandas-docs/stable/indexing.html#indexing-view-versus-copy\n",
      "/Users/pari/University/unienv/lib/python3.6/site-packages/ipykernel_launcher.py:26: SettingWithCopyWarning: \n",
      "A value is trying to be set on a copy of a slice from a DataFrame.\n",
      "Try using .loc[row_indexer,col_indexer] = value instead\n",
      "\n",
      "See the caveats in the documentation: http://pandas.pydata.org/pandas-docs/stable/indexing.html#indexing-view-versus-copy\n"
     ]
    }
   ],
   "source": [
    "sprk_3_df = validate_speaker_reference(validation_df_sp3,5)"
   ]
  },
  {
   "cell_type": "code",
   "execution_count": 23,
   "metadata": {},
   "outputs": [
    {
     "data": {
      "text/html": [
       "<div>\n",
       "<style scoped>\n",
       "    .dataframe tbody tr th:only-of-type {\n",
       "        vertical-align: middle;\n",
       "    }\n",
       "\n",
       "    .dataframe tbody tr th {\n",
       "        vertical-align: top;\n",
       "    }\n",
       "\n",
       "    .dataframe thead th {\n",
       "        text-align: right;\n",
       "    }\n",
       "</style>\n",
       "<table border=\"1\" class=\"dataframe\">\n",
       "  <thead>\n",
       "    <tr style=\"text-align: right;\">\n",
       "      <th></th>\n",
       "      <th>start</th>\n",
       "      <th>stop</th>\n",
       "      <th>speaker</th>\n",
       "      <th>spoken</th>\n",
       "      <th>spoken_clean</th>\n",
       "      <th>start_reset</th>\n",
       "      <th>stop_reset</th>\n",
       "      <th>duration</th>\n",
       "      <th>label_pred</th>\n",
       "      <th>probability_pred</th>\n",
       "    </tr>\n",
       "  </thead>\n",
       "  <tbody>\n",
       "    <tr>\n",
       "      <th>521</th>\n",
       "      <td>1259.805</td>\n",
       "      <td>1263.899</td>\n",
       "      <td>spkr3:</td>\n",
       "      <td>The touch display itse- -- turns itself off to...</td>\n",
       "      <td>The touch display itse- -- turns itself off to...</td>\n",
       "      <td>833.527</td>\n",
       "      <td>837.621</td>\n",
       "      <td>4.094</td>\n",
       "      <td>spkr3</td>\n",
       "      <td>0.990543</td>\n",
       "    </tr>\n",
       "    <tr>\n",
       "      <th>515</th>\n",
       "      <td>1248.220</td>\n",
       "      <td>1252.239</td>\n",
       "      <td>spkr3:</td>\n",
       "      <td>is that the display contains solar cells under...</td>\n",
       "      <td>is that the display contains solar cells under...</td>\n",
       "      <td>821.942</td>\n",
       "      <td>825.961</td>\n",
       "      <td>4.019</td>\n",
       "      <td>spkr3</td>\n",
       "      <td>0.955253</td>\n",
       "    </tr>\n",
       "    <tr>\n",
       "      <th>524</th>\n",
       "      <td>1269.619</td>\n",
       "      <td>1272.484</td>\n",
       "      <td>spkr3:</td>\n",
       "      <td>which makes it +considerably cheaper than</td>\n",
       "      <td>which makes it +considerably cheaper than</td>\n",
       "      <td>843.341</td>\n",
       "      <td>846.206</td>\n",
       "      <td>2.865</td>\n",
       "      <td>spkr3</td>\n",
       "      <td>0.976374</td>\n",
       "    </tr>\n",
       "    <tr>\n",
       "      <th>509</th>\n",
       "      <td>1233.408</td>\n",
       "      <td>1236.071</td>\n",
       "      <td>spkr3:</td>\n",
       "      <td>All right. It measures four by six centimeters,</td>\n",
       "      <td>All right. It measures four by six centimeters,</td>\n",
       "      <td>807.130</td>\n",
       "      <td>809.793</td>\n",
       "      <td>2.663</td>\n",
       "      <td>spkr3</td>\n",
       "      <td>0.888654</td>\n",
       "    </tr>\n",
       "    <tr>\n",
       "      <th>523</th>\n",
       "      <td>1266.566</td>\n",
       "      <td>1269.138</td>\n",
       "      <td>spkr3:</td>\n",
       "      <td>and the production costs are only three euros</td>\n",
       "      <td>and the production costs are only three euros</td>\n",
       "      <td>840.288</td>\n",
       "      <td>842.860</td>\n",
       "      <td>2.572</td>\n",
       "      <td>spkr3</td>\n",
       "      <td>0.968899</td>\n",
       "    </tr>\n",
       "  </tbody>\n",
       "</table>\n",
       "</div>"
      ],
      "text/plain": [
       "        start      stop speaker  \\\n",
       "521  1259.805  1263.899  spkr3:   \n",
       "515  1248.220  1252.239  spkr3:   \n",
       "524  1269.619  1272.484  spkr3:   \n",
       "509  1233.408  1236.071  spkr3:   \n",
       "523  1266.566  1269.138  spkr3:   \n",
       "\n",
       "                                                spoken  \\\n",
       "521  The touch display itse- -- turns itself off to...   \n",
       "515  is that the display contains solar cells under...   \n",
       "524         which makes it +considerably cheaper than    \n",
       "509   All right. It measures four by six centimeters,    \n",
       "523      and the production costs are only three euros   \n",
       "\n",
       "                                          spoken_clean  start_reset  \\\n",
       "521  The touch display itse- -- turns itself off to...      833.527   \n",
       "515  is that the display contains solar cells under...      821.942   \n",
       "524         which makes it +considerably cheaper than       843.341   \n",
       "509   All right. It measures four by six centimeters,       807.130   \n",
       "523      and the production costs are only three euros      840.288   \n",
       "\n",
       "     stop_reset  duration label_pred  probability_pred  \n",
       "521     837.621     4.094      spkr3          0.990543  \n",
       "515     825.961     4.019      spkr3          0.955253  \n",
       "524     846.206     2.865      spkr3          0.976374  \n",
       "509     809.793     2.663      spkr3          0.888654  \n",
       "523     842.860     2.572      spkr3          0.968899  "
      ]
     },
     "execution_count": 23,
     "metadata": {},
     "output_type": "execute_result"
    }
   ],
   "source": [
    "sprk_3_df"
   ]
  },
  {
   "cell_type": "code",
   "execution_count": 24,
   "metadata": {},
   "outputs": [
    {
     "data": {
      "text/html": [
       "<div>\n",
       "<style scoped>\n",
       "    .dataframe tbody tr th:only-of-type {\n",
       "        vertical-align: middle;\n",
       "    }\n",
       "\n",
       "    .dataframe tbody tr th {\n",
       "        vertical-align: top;\n",
       "    }\n",
       "\n",
       "    .dataframe thead th {\n",
       "        text-align: right;\n",
       "    }\n",
       "</style>\n",
       "<table border=\"1\" class=\"dataframe\">\n",
       "  <thead>\n",
       "    <tr style=\"text-align: right;\">\n",
       "      <th></th>\n",
       "      <th>start</th>\n",
       "      <th>stop</th>\n",
       "      <th>speaker</th>\n",
       "      <th>spoken</th>\n",
       "      <th>spoken_clean</th>\n",
       "      <th>start_reset</th>\n",
       "      <th>stop_reset</th>\n",
       "      <th>duration</th>\n",
       "      <th>label_pred</th>\n",
       "      <th>probability_pred</th>\n",
       "    </tr>\n",
       "  </thead>\n",
       "  <tbody>\n",
       "    <tr>\n",
       "      <th>440</th>\n",
       "      <td>1108.996</td>\n",
       "      <td>1113.241</td>\n",
       "      <td>spkr4:</td>\n",
       "      <td>But then if you have the scroll and you &lt;contr...</td>\n",
       "      <td>But then if you have the scroll and you don't ...</td>\n",
       "      <td>682.718</td>\n",
       "      <td>686.963</td>\n",
       "      <td>4.245</td>\n",
       "      <td>spkr4</td>\n",
       "      <td>0.994102</td>\n",
       "    </tr>\n",
       "    <tr>\n",
       "      <th>460</th>\n",
       "      <td>1145.799</td>\n",
       "      <td>1149.684</td>\n",
       "      <td>spkr4:</td>\n",
       "      <td>in the market, and probably you can go with th...</td>\n",
       "      <td>in the market, and probably you can go with th...</td>\n",
       "      <td>719.521</td>\n",
       "      <td>723.406</td>\n",
       "      <td>3.885</td>\n",
       "      <td>spkr4</td>\n",
       "      <td>0.993261</td>\n",
       "    </tr>\n",
       "    <tr>\n",
       "      <th>306</th>\n",
       "      <td>874.230</td>\n",
       "      <td>877.884</td>\n",
       "      <td>spkr4:</td>\n",
       "      <td>Well tell me one thing. We are anyway position...</td>\n",
       "      <td>Well tell me one thing. We are anyway position...</td>\n",
       "      <td>447.952</td>\n",
       "      <td>451.606</td>\n",
       "      <td>3.654</td>\n",
       "      <td>spkr4</td>\n",
       "      <td>0.983571</td>\n",
       "    </tr>\n",
       "    <tr>\n",
       "      <th>358</th>\n",
       "      <td>958.733</td>\n",
       "      <td>962.148</td>\n",
       "      <td>spkr4:</td>\n",
       "      <td>whether &lt;contraction e_form=\"[it=&gt;it]['s=&gt;is]\"...</td>\n",
       "      <td>whether it's voice recognition, or the scroll ...</td>\n",
       "      <td>532.455</td>\n",
       "      <td>535.870</td>\n",
       "      <td>3.415</td>\n",
       "      <td>spkr4</td>\n",
       "      <td>0.997101</td>\n",
       "    </tr>\n",
       "    <tr>\n",
       "      <th>147</th>\n",
       "      <td>645.668</td>\n",
       "      <td>649.034</td>\n",
       "      <td>spkr4:</td>\n",
       "      <td>%ah, if you are going to lose a lot of things ...</td>\n",
       "      <td>%ah, if you are going to lose a lot of things ...</td>\n",
       "      <td>219.390</td>\n",
       "      <td>222.756</td>\n",
       "      <td>3.366</td>\n",
       "      <td>spkr4</td>\n",
       "      <td>0.997425</td>\n",
       "    </tr>\n",
       "  </tbody>\n",
       "</table>\n",
       "</div>"
      ],
      "text/plain": [
       "        start      stop speaker  \\\n",
       "440  1108.996  1113.241  spkr4:   \n",
       "460  1145.799  1149.684  spkr4:   \n",
       "306   874.230   877.884  spkr4:   \n",
       "358   958.733   962.148  spkr4:   \n",
       "147   645.668   649.034  spkr4:   \n",
       "\n",
       "                                                spoken  \\\n",
       "440  But then if you have the scroll and you <contr...   \n",
       "460  in the market, and probably you can go with th...   \n",
       "306  Well tell me one thing. We are anyway position...   \n",
       "358  whether <contraction e_form=\"[it=>it]['s=>is]\"...   \n",
       "147  %ah, if you are going to lose a lot of things ...   \n",
       "\n",
       "                                          spoken_clean  start_reset  \\\n",
       "440  But then if you have the scroll and you don't ...      682.718   \n",
       "460  in the market, and probably you can go with th...      719.521   \n",
       "306  Well tell me one thing. We are anyway position...      447.952   \n",
       "358  whether it's voice recognition, or the scroll ...      532.455   \n",
       "147  %ah, if you are going to lose a lot of things ...      219.390   \n",
       "\n",
       "     stop_reset  duration label_pred  probability_pred  \n",
       "440     686.963     4.245      spkr4          0.994102  \n",
       "460     723.406     3.885      spkr4          0.993261  \n",
       "306     451.606     3.654      spkr4          0.983571  \n",
       "358     535.870     3.415      spkr4          0.997101  \n",
       "147     222.756     3.366      spkr4          0.997425  "
      ]
     },
     "execution_count": 24,
     "metadata": {},
     "output_type": "execute_result"
    }
   ],
   "source": [
    "sprk_4_df"
   ]
  },
  {
   "cell_type": "code",
   "execution_count": null,
   "metadata": {},
   "outputs": [],
   "source": []
  }
 ],
 "metadata": {
  "kernelspec": {
   "display_name": "Python 3",
   "language": "python",
   "name": "python3"
  },
  "language_info": {
   "codemirror_mode": {
    "name": "ipython",
    "version": 3
   },
   "file_extension": ".py",
   "mimetype": "text/x-python",
   "name": "python",
   "nbconvert_exporter": "python",
   "pygments_lexer": "ipython3",
   "version": "3.6.6"
  }
 },
 "nbformat": 4,
 "nbformat_minor": 2
}
