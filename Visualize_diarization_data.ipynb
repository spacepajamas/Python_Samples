{
 "cells": [
  {
   "cell_type": "code",
   "execution_count": 1,
   "metadata": {},
   "outputs": [],
   "source": [
    "%matplotlib inline"
   ]
  },
  {
   "cell_type": "code",
   "execution_count": 2,
   "metadata": {},
   "outputs": [],
   "source": [
    "from pyannote.core import Segment, Timeline, Annotation\n",
    "from pyannote.metrics.diarization import DiarizationErrorRate\n",
    "from pyannote.metrics.errors.identification import IdentificationErrorAnalysis as IEA\n",
    "from librosa import display as DS\n"
   ]
  },
  {
   "cell_type": "code",
   "execution_count": 3,
   "metadata": {},
   "outputs": [],
   "source": [
    "import matplotlib.pyplot as plt\n",
    "import matplotlib.colors\n",
    "import pandas as pd"
   ]
  },
  {
   "cell_type": "code",
   "execution_count": 4,
   "metadata": {},
   "outputs": [],
   "source": [
    "def plot_segments(segments):\n",
    "    \"\"\"    \n",
    "    segments = {'a': [(0, 5),\n",
    "                    (15, 20)],\n",
    "                'b': [(0, 7),\n",
    "                    (19, 25)]}\n",
    "    \"\"\"\n",
    "    #colors = {0: 'b', 1: 'r'}\n",
    "    #plt.figure()\n",
    "    \n",
    "    for y in segments:\n",
    "        for seg in segments[y]:\n",
    "            plt.plot(seg, [y, y], marker = '|')\n",
    "            \n"
   ]
  },
  {
   "cell_type": "code",
   "execution_count": 5,
   "metadata": {},
   "outputs": [],
   "source": [
    "segments_x = {'a': [(0, 5),\n",
    "                    (15, 20)],\n",
    "                'b': [(0, 7),\n",
    "                    (19, 25)]}"
   ]
  },
  {
   "cell_type": "code",
   "execution_count": 6,
   "metadata": {},
   "outputs": [
    {
     "data": {
      "image/png": "[encoded data removed]",
      "text/plain": [
       "<Figure size 432x288 with 1 Axes>"
      ]
     },
     "metadata": {
      "needs_background": "light"
     },
     "output_type": "display_data"
    }
   ],
   "source": [
    "plot_segments(segments_x)"
   ]
  },
  {
   "cell_type": "markdown",
   "metadata": {},
   "source": [
    "### generate dataframe for demonstration"
   ]
  },
  {
   "cell_type": "code",
   "execution_count": 7,
   "metadata": {},
   "outputs": [],
   "source": [
    "df_data_raw = [(0,1,'seg1','spk1','gold'),(1,1.5,'seg2','spk2','gold'),(0.5,1,'seg3', 'spk3','gold'),\n",
    "              (0,0.5,'seg1','spk1','model'),(1,1.5,'seg2','spk1','model'),(1.25,1,'seg3', 'spk3','model')]"
   ]
  },
  {
   "cell_type": "code",
   "execution_count": 8,
   "metadata": {},
   "outputs": [
    {
     "data": {
      "text/html": [
       "<div>\n",
       "<style scoped>\n",
       "    .dataframe tbody tr th:only-of-type {\n",
       "        vertical-align: middle;\n",
       "    }\n",
       "\n",
       "    .dataframe tbody tr th {\n",
       "        vertical-align: top;\n",
       "    }\n",
       "\n",
       "    .dataframe thead th {\n",
       "        text-align: right;\n",
       "    }\n",
       "</style>\n",
       "<table border=\"1\" class=\"dataframe\">\n",
       "  <thead>\n",
       "    <tr style=\"text-align: right;\">\n",
       "      <th></th>\n",
       "      <th>start</th>\n",
       "      <th>stop</th>\n",
       "      <th>text</th>\n",
       "      <th>label</th>\n",
       "      <th>datatype</th>\n",
       "    </tr>\n",
       "  </thead>\n",
       "  <tbody>\n",
       "    <tr>\n",
       "      <th>0</th>\n",
       "      <td>0.00</td>\n",
       "      <td>1.0</td>\n",
       "      <td>seg1</td>\n",
       "      <td>spk1</td>\n",
       "      <td>gold</td>\n",
       "    </tr>\n",
       "    <tr>\n",
       "      <th>1</th>\n",
       "      <td>1.00</td>\n",
       "      <td>1.5</td>\n",
       "      <td>seg2</td>\n",
       "      <td>spk2</td>\n",
       "      <td>gold</td>\n",
       "    </tr>\n",
       "    <tr>\n",
       "      <th>2</th>\n",
       "      <td>0.50</td>\n",
       "      <td>1.0</td>\n",
       "      <td>seg3</td>\n",
       "      <td>spk3</td>\n",
       "      <td>gold</td>\n",
       "    </tr>\n",
       "    <tr>\n",
       "      <th>3</th>\n",
       "      <td>0.00</td>\n",
       "      <td>0.5</td>\n",
       "      <td>seg1</td>\n",
       "      <td>spk1</td>\n",
       "      <td>model</td>\n",
       "    </tr>\n",
       "    <tr>\n",
       "      <th>4</th>\n",
       "      <td>1.00</td>\n",
       "      <td>1.5</td>\n",
       "      <td>seg2</td>\n",
       "      <td>spk1</td>\n",
       "      <td>model</td>\n",
       "    </tr>\n",
       "    <tr>\n",
       "      <th>5</th>\n",
       "      <td>1.25</td>\n",
       "      <td>1.0</td>\n",
       "      <td>seg3</td>\n",
       "      <td>spk3</td>\n",
       "      <td>model</td>\n",
       "    </tr>\n",
       "  </tbody>\n",
       "</table>\n",
       "</div>"
      ],
      "text/plain": [
       "   start  stop  text label datatype\n",
       "0   0.00   1.0  seg1  spk1     gold\n",
       "1   1.00   1.5  seg2  spk2     gold\n",
       "2   0.50   1.0  seg3  spk3     gold\n",
       "3   0.00   0.5  seg1  spk1    model\n",
       "4   1.00   1.5  seg2  spk1    model\n",
       "5   1.25   1.0  seg3  spk3    model"
      ]
     },
     "execution_count": 8,
     "metadata": {},
     "output_type": "execute_result"
    }
   ],
   "source": [
    "test_df = pd.DataFrame(df_data_raw, columns=['start','stop','text','label','datatype'])\n",
    "test_df"
   ]
  },
  {
   "cell_type": "code",
   "execution_count": 9,
   "metadata": {},
   "outputs": [
    {
     "data": {
      "text/plain": [
       "0    0.0\n",
       "1    1.0\n",
       "2    0.5\n",
       "Name: start, dtype: float64"
      ]
     },
     "execution_count": 9,
     "metadata": {},
     "output_type": "execute_result"
    }
   ],
   "source": [
    "test_df[test_df.datatype == 'gold'].start"
   ]
  },
  {
   "cell_type": "code",
   "execution_count": 10,
   "metadata": {},
   "outputs": [],
   "source": [
    "def get_reference_hypothesis(data_df,gold_label, model_label):\n",
    "    reference = Annotation(uri=gold_label)\n",
    "    reference_df = data_df[data_df.datatype == gold_label]\n",
    "    for index, row in reference_df.iterrows():\n",
    "        print(row['start'], row['stop'],row['label'] )\n",
    "        reference[Segment(row['start'], row['stop'])] = row['label']\n",
    "    \n",
    "    hypothesis = Annotation(uri=gold_label)\n",
    "    hypothesis_df = data_df[data_df.datatype == model_label]\n",
    "    for index, row in hypothesis_df.iterrows():\n",
    "        print(row['start'], row['stop'],row['label'] )\n",
    "        hypothesis[Segment(row['start'], row['stop'])] = row['label']\n",
    "\n",
    "    \n",
    "    return reference, hypothesis\n",
    "        \n",
    "\n",
    "    "
   ]
  },
  {
   "cell_type": "code",
   "execution_count": 11,
   "metadata": {},
   "outputs": [
    {
     "name": "stdout",
     "output_type": "stream",
     "text": [
      "0.0 1.0 spk1\n",
      "1.0 1.5 spk2\n",
      "0.5 1.0 spk3\n",
      "0.0 0.5 spk1\n",
      "1.0 1.5 spk1\n",
      "1.25 1.0 spk3\n"
     ]
    }
   ],
   "source": [
    "ref, hyp = get_reference_hypothesis(test_df,gold_label = 'gold', model_label = 'model')"
   ]
  },
  {
   "cell_type": "code",
   "execution_count": 12,
   "metadata": {},
   "outputs": [
    {
     "data": {
      "image/png": "[encoded data removed]",
      "text/plain": [
       "<pyannote.core.annotation.Annotation at 0x12a819a20>"
      ]
     },
     "execution_count": 12,
     "metadata": {},
     "output_type": "execute_result"
    }
   ],
   "source": [
    "hyp"
   ]
  },
  {
   "cell_type": "code",
   "execution_count": 13,
   "metadata": {},
   "outputs": [
    {
     "data": {
      "image/png": "[encoded data removed]",
      "text/plain": [
       "<pyannote.core.annotation.Annotation at 0x12a819978>"
      ]
     },
     "execution_count": 13,
     "metadata": {},
     "output_type": "execute_result"
    }
   ],
   "source": [
    "ref"
   ]
  },
  {
   "cell_type": "markdown",
   "metadata": {},
   "source": [
    "## Diarization metrics"
   ]
  },
  {
   "cell_type": "code",
   "execution_count": 14,
   "metadata": {},
   "outputs": [
    {
     "name": "stderr",
     "output_type": "stream",
     "text": [
      "/Users/pari/University/unienv/lib/python3.6/site-packages/pyannote/metrics/utils.py:184: UserWarning: 'uem' was approximated by the union of 'reference' and 'hypothesis' extents.\n",
      "  \"'uem' was approximated by the union of 'reference' \"\n"
     ]
    }
   ],
   "source": [
    "metric = DiarizationErrorRate()\n",
    "met_der = metric(ref, hyp, detailed=True)\n"
   ]
  },
  {
   "cell_type": "code",
   "execution_count": 15,
   "metadata": {},
   "outputs": [
    {
     "data": {
      "text/plain": [
       "{'confusion': 0.5,\n",
       " 'total': 2.0,\n",
       " 'false alarm': 0.0,\n",
       " 'correct': 0.5,\n",
       " 'missed detection': 1.0,\n",
       " 'diarization error rate': 0.75}"
      ]
     },
     "execution_count": 15,
     "metadata": {},
     "output_type": "execute_result"
    }
   ],
   "source": [
    "met_der"
   ]
  },
  {
   "cell_type": "markdown",
   "metadata": {},
   "source": [
    "## DER analysis"
   ]
  },
  {
   "cell_type": "code",
   "execution_count": 16,
   "metadata": {},
   "outputs": [],
   "source": [
    "iea = IEA()\n",
    "differences = iea.difference(reference=ref, hypothesis=hyp)"
   ]
  },
  {
   "cell_type": "code",
   "execution_count": 17,
   "metadata": {},
   "outputs": [
    {
     "data": {
      "image/png": "[encoded data removed]",
      "text/plain": [
       "<pyannote.core.annotation.Annotation at 0x12ab6a710>"
      ]
     },
     "execution_count": 17,
     "metadata": {},
     "output_type": "execute_result"
    }
   ],
   "source": [
    "differences"
   ]
  },
  {
   "cell_type": "code",
   "execution_count": 18,
   "metadata": {},
   "outputs": [],
   "source": [
    "import numpy as np\n",
    "from scipy.io.wavfile import write\n",
    "import librosa\n",
    "\n",
    "data = np.random.uniform(-1,1,100)\n",
    "write('white_noise.wav', 50, data)"
   ]
  },
  {
   "cell_type": "markdown",
   "metadata": {},
   "source": [
    "## plot reference"
   ]
  },
  {
   "cell_type": "code",
   "execution_count": 19,
   "metadata": {},
   "outputs": [
    {
     "name": "stdout",
     "output_type": "stream",
     "text": [
      "[ 00:00:00.000 -->  00:00:01.000]\n",
      "[ 00:00:00.500 -->  00:00:01.000]\n",
      "[ 00:00:01.000 -->  00:00:01.500]\n"
     ]
    },
    {
     "data": {
      "image/png": "[encoded data removed]",
      "text/plain": [
       "<Figure size 432x288 with 1 Axes>"
      ]
     },
     "metadata": {
      "needs_background": "light"
     },
     "output_type": "display_data"
    }
   ],
   "source": [
    "x = np.random.uniform(-1,1,75)\n",
    "sr = 50\n",
    "\n",
    "for item in ref.get_timeline():\n",
    "    print(item)\n",
    "    \n",
    "\n",
    "    y = np.zeros(x.shape[0])\n",
    "    y[int(item[0] * sr):int(item[1] * sr)] = x[int(item[0] * sr):int(item[1] * sr)]\n",
    "\n",
    "    # print(x.shape)\n",
    "    DS.waveplot(y, sr=sr)\n"
   ]
  },
  {
   "cell_type": "markdown",
   "metadata": {},
   "source": [
    "## plot hypothesis"
   ]
  },
  {
   "cell_type": "code",
   "execution_count": 20,
   "metadata": {},
   "outputs": [
    {
     "name": "stdout",
     "output_type": "stream",
     "text": [
      "{'_'}\n",
      "[ 00:00:00.000 -->  00:00:00.500]\n",
      "(75,)\n",
      "{'_'}\n",
      "[ 00:00:01.000 -->  00:00:01.500]\n",
      "(75,)\n"
     ]
    },
    {
     "data": {
      "image/png": "[encoded data removed]",
      "text/plain": [
       "<Figure size 432x288 with 1 Axes>"
      ]
     },
     "metadata": {
      "needs_background": "light"
     },
     "output_type": "display_data"
    }
   ],
   "source": [
    "for item in hyp.get_timeline():\n",
    "    print(hyp.get_tracks(item))\n",
    "    print(item)\n",
    "    \n",
    "\n",
    "    y = np.zeros(x.shape[0])\n",
    "    y[int(item[0] * sr):int(item[1] * sr)] = x[int(item[0] * sr):int(item[1] * sr)]\n",
    "\n",
    "    # print(x.shape)\n",
    "    DS.waveplot(y, sr=sr)\n",
    "    print(y.shape)\n"
   ]
  },
  {
   "cell_type": "markdown",
   "metadata": {},
   "source": [
    "## how to plot text"
   ]
  },
  {
   "cell_type": "code",
   "execution_count": 21,
   "metadata": {},
   "outputs": [
    {
     "data": {
      "text/plain": [
       "Text(0.5, 0.1, 'This is a text')"
      ]
     },
     "execution_count": 21,
     "metadata": {},
     "output_type": "execute_result"
    },
    {
     "data": {
      "image/png": "[encoded data removed]",
      "text/plain": [
       "<Figure size 432x288 with 1 Axes>"
      ]
     },
     "metadata": {
      "needs_background": "light"
     },
     "output_type": "display_data"
    }
   ],
   "source": [
    "postion_x_axis = 0.5\n",
    "postion_y_axis = 0.1\n",
    "text = (\"This is a text\")\n",
    "plt.text(postion_x_axis, postion_y_axis, text, family='serif', style='italic', ha='left', wrap=True)\n"
   ]
  },
  {
   "cell_type": "code",
   "execution_count": null,
   "metadata": {},
   "outputs": [],
   "source": []
  }
 ],
 "metadata": {
  "kernelspec": {
   "display_name": "Python 3",
   "language": "python",
   "name": "python3"
  },
  "language_info": {
   "codemirror_mode": {
    "name": "ipython",
    "version": 3
   },
   "file_extension": ".py",
   "mimetype": "text/x-python",
   "name": "python",
   "nbconvert_exporter": "python",
   "pygments_lexer": "ipython3",
   "version": "3.6.6"
  }
 },
 "nbformat": 4,
 "nbformat_minor": 2
}
